{
 "cells": [
  {
   "cell_type": "code",
   "execution_count": 40,
   "metadata": {},
   "outputs": [],
   "source": [
    "import numpy as np"
   ]
  },
  {
   "cell_type": "code",
   "execution_count": 41,
   "metadata": {},
   "outputs": [],
   "source": [
    "data=np.loadtxt(\"D:\\\\Additional\\\\[CN]\\\\[CN] ML\\\\08. Linear Regression\\\\2.0 Files\\\\data.csv\",delimiter=\",\")"
   ]
  },
  {
   "cell_type": "code",
   "execution_count": 42,
   "metadata": {},
   "outputs": [],
   "source": [
    "x=data[:,0].reshape(-1,1)  #it reshape the array to 2d that is it will modify the array to 1 row and columsn will remain same\n",
    "y=data[:,1]\n"
   ]
  },
  {
   "cell_type": "code",
   "execution_count": 43,
   "metadata": {},
   "outputs": [
    {
     "data": {
      "text/plain": [
       "array([[32.50234527],\n",
       "       [53.42680403],\n",
       "       [61.53035803],\n",
       "       [47.47563963],\n",
       "       [59.81320787],\n",
       "       [55.14218841],\n",
       "       [52.21179669],\n",
       "       [39.29956669],\n",
       "       [48.10504169],\n",
       "       [52.55001444],\n",
       "       [45.41973014],\n",
       "       [54.35163488],\n",
       "       [44.1640495 ],\n",
       "       [58.16847072],\n",
       "       [56.72720806],\n",
       "       [48.95588857],\n",
       "       [44.68719623],\n",
       "       [60.29732685],\n",
       "       [45.61864377],\n",
       "       [38.81681754],\n",
       "       [66.18981661],\n",
       "       [65.41605175],\n",
       "       [47.48120861],\n",
       "       [41.57564262],\n",
       "       [51.84518691],\n",
       "       [59.37082201],\n",
       "       [57.31000344],\n",
       "       [63.61556125],\n",
       "       [46.73761941],\n",
       "       [50.55676015],\n",
       "       [52.22399609],\n",
       "       [35.56783005],\n",
       "       [42.43647694],\n",
       "       [58.16454011],\n",
       "       [57.50444762],\n",
       "       [45.44053073],\n",
       "       [61.89622268],\n",
       "       [33.09383174],\n",
       "       [36.43600951],\n",
       "       [37.67565486],\n",
       "       [44.55560838],\n",
       "       [43.31828263],\n",
       "       [50.07314563],\n",
       "       [43.87061265],\n",
       "       [62.99748075],\n",
       "       [32.66904376],\n",
       "       [40.16689901],\n",
       "       [53.57507753],\n",
       "       [33.86421497],\n",
       "       [64.70713867],\n",
       "       [38.11982403],\n",
       "       [44.50253806],\n",
       "       [40.59953838],\n",
       "       [41.72067636],\n",
       "       [51.08863468],\n",
       "       [55.0780959 ],\n",
       "       [41.37772653],\n",
       "       [62.49469743],\n",
       "       [49.20388754],\n",
       "       [41.10268519],\n",
       "       [41.18201611],\n",
       "       [50.18638949],\n",
       "       [52.37844622],\n",
       "       [50.13548549],\n",
       "       [33.64470601],\n",
       "       [39.55790122],\n",
       "       [56.13038882],\n",
       "       [57.36205213],\n",
       "       [60.26921439],\n",
       "       [35.67809389],\n",
       "       [31.588117  ],\n",
       "       [53.66093226],\n",
       "       [46.68222865],\n",
       "       [43.10782022],\n",
       "       [70.34607562],\n",
       "       [44.49285588],\n",
       "       [57.5045333 ],\n",
       "       [36.93007661],\n",
       "       [55.80573336],\n",
       "       [38.95476907],\n",
       "       [56.9012147 ],\n",
       "       [56.86890066],\n",
       "       [34.3331247 ],\n",
       "       [59.04974121],\n",
       "       [57.78822399],\n",
       "       [54.28232871],\n",
       "       [51.0887199 ],\n",
       "       [50.28283635],\n",
       "       [44.21174175],\n",
       "       [38.00548801],\n",
       "       [32.94047994],\n",
       "       [53.69163957],\n",
       "       [68.76573427],\n",
       "       [46.2309665 ],\n",
       "       [68.31936082],\n",
       "       [50.03017434],\n",
       "       [49.23976534],\n",
       "       [50.03957594],\n",
       "       [48.14985889],\n",
       "       [25.12848465]])"
      ]
     },
     "execution_count": 43,
     "metadata": {},
     "output_type": "execute_result"
    }
   ],
   "source": [
    "x                  #You can see the difference here"
   ]
  },
  {
   "cell_type": "code",
   "execution_count": 44,
   "metadata": {},
   "outputs": [
    {
     "data": {
      "text/plain": [
       "array([[32.50234527],\n",
       "       [53.42680403],\n",
       "       [61.53035803],\n",
       "       [47.47563963],\n",
       "       [59.81320787],\n",
       "       [55.14218841],\n",
       "       [52.21179669],\n",
       "       [39.29956669],\n",
       "       [48.10504169],\n",
       "       [52.55001444],\n",
       "       [45.41973014],\n",
       "       [54.35163488],\n",
       "       [44.1640495 ],\n",
       "       [58.16847072],\n",
       "       [56.72720806],\n",
       "       [48.95588857],\n",
       "       [44.68719623],\n",
       "       [60.29732685],\n",
       "       [45.61864377],\n",
       "       [38.81681754],\n",
       "       [66.18981661],\n",
       "       [65.41605175],\n",
       "       [47.48120861],\n",
       "       [41.57564262],\n",
       "       [51.84518691],\n",
       "       [59.37082201],\n",
       "       [57.31000344],\n",
       "       [63.61556125],\n",
       "       [46.73761941],\n",
       "       [50.55676015],\n",
       "       [52.22399609],\n",
       "       [35.56783005],\n",
       "       [42.43647694],\n",
       "       [58.16454011],\n",
       "       [57.50444762],\n",
       "       [45.44053073],\n",
       "       [61.89622268],\n",
       "       [33.09383174],\n",
       "       [36.43600951],\n",
       "       [37.67565486],\n",
       "       [44.55560838],\n",
       "       [43.31828263],\n",
       "       [50.07314563],\n",
       "       [43.87061265],\n",
       "       [62.99748075],\n",
       "       [32.66904376],\n",
       "       [40.16689901],\n",
       "       [53.57507753],\n",
       "       [33.86421497],\n",
       "       [64.70713867],\n",
       "       [38.11982403],\n",
       "       [44.50253806],\n",
       "       [40.59953838],\n",
       "       [41.72067636],\n",
       "       [51.08863468],\n",
       "       [55.0780959 ],\n",
       "       [41.37772653],\n",
       "       [62.49469743],\n",
       "       [49.20388754],\n",
       "       [41.10268519],\n",
       "       [41.18201611],\n",
       "       [50.18638949],\n",
       "       [52.37844622],\n",
       "       [50.13548549],\n",
       "       [33.64470601],\n",
       "       [39.55790122],\n",
       "       [56.13038882],\n",
       "       [57.36205213],\n",
       "       [60.26921439],\n",
       "       [35.67809389],\n",
       "       [31.588117  ],\n",
       "       [53.66093226],\n",
       "       [46.68222865],\n",
       "       [43.10782022],\n",
       "       [70.34607562],\n",
       "       [44.49285588],\n",
       "       [57.5045333 ],\n",
       "       [36.93007661],\n",
       "       [55.80573336],\n",
       "       [38.95476907],\n",
       "       [56.9012147 ],\n",
       "       [56.86890066],\n",
       "       [34.3331247 ],\n",
       "       [59.04974121],\n",
       "       [57.78822399],\n",
       "       [54.28232871],\n",
       "       [51.0887199 ],\n",
       "       [50.28283635],\n",
       "       [44.21174175],\n",
       "       [38.00548801],\n",
       "       [32.94047994],\n",
       "       [53.69163957],\n",
       "       [68.76573427],\n",
       "       [46.2309665 ],\n",
       "       [68.31936082],\n",
       "       [50.03017434],\n",
       "       [49.23976534],\n",
       "       [50.03957594],\n",
       "       [48.14985889],\n",
       "       [25.12848465]])"
      ]
     },
     "execution_count": 44,
     "metadata": {},
     "output_type": "execute_result"
    }
   ],
   "source": [
    "x.reshape(-1,1)"
   ]
  },
  {
   "cell_type": "code",
   "execution_count": 45,
   "metadata": {},
   "outputs": [],
   "source": [
    "from sklearn import model_selection\n",
    "x_train,x_test,y_train,y_test = model_selection.train_test_split(x,y)   #it will split the array into 4 component- x_train,x_test and y_trainy_test"
   ]
  },
  {
   "cell_type": "code",
   "execution_count": 46,
   "metadata": {},
   "outputs": [
    {
     "data": {
      "text/plain": [
       "LinearRegression()"
      ]
     },
     "execution_count": 46,
     "metadata": {},
     "output_type": "execute_result"
    }
   ],
   "source": [
    "from sklearn.linear_model import LinearRegression\n",
    "alg1=LinearRegression()\n",
    "alg1.fit(x_train,y_train)"
   ]
  },
  {
   "cell_type": "code",
   "execution_count": 47,
   "metadata": {},
   "outputs": [
    {
     "data": {
      "text/plain": [
       "array([1.3188109])"
      ]
     },
     "execution_count": 47,
     "metadata": {},
     "output_type": "execute_result"
    }
   ],
   "source": [
    "alg1.coef_ #this is our m in y=mx+c"
   ]
  },
  {
   "cell_type": "code",
   "execution_count": 48,
   "metadata": {},
   "outputs": [
    {
     "data": {
      "text/plain": [
       "8.83767992107218"
      ]
     },
     "execution_count": 48,
     "metadata": {},
     "output_type": "execute_result"
    }
   ],
   "source": [
    "alg1.intercept_  #this is our c in y=mx+c"
   ]
  },
  {
   "cell_type": "code",
   "execution_count": 49,
   "metadata": {},
   "outputs": [
    {
     "data": {
      "image/png": "[encoded data removed]",
      "text/plain": [
       "<Figure size 432x288 with 1 Axes>"
      ]
     },
     "metadata": {
      "needs_background": "light"
     },
     "output_type": "display_data"
    }
   ],
   "source": [
    "#here we are plotting our data\n",
    "import matplotlib.pyplot as plt\n",
    "m=alg1.coef_[0]\n",
    "c=alg1.intercept_\n",
    "x_line=np.arange(0,79,0.1)\n",
    "y_line=m*x_line + c\n",
    "plt.plot(x_line,y_line,\"r\")\n",
    "train_id=x_train.reshape(75)\n",
    "plt.scatter(x_train,y_train)\n",
    "plt.show()\n"
   ]
  },
  {
   "cell_type": "code",
   "execution_count": 52,
   "metadata": {},
   "outputs": [
    {
     "data": {
      "text/plain": [
       "0.5124705735869475"
      ]
     },
     "execution_count": 52,
     "metadata": {},
     "output_type": "execute_result"
    }
   ],
   "source": [
    "score_test=alg1.score(x_test,y_test)  #this is use to calculate score. definition of score is given in notebooks :)\n",
    "score_test\n"
   ]
  },
  {
   "cell_type": "code",
   "execution_count": 51,
   "metadata": {},
   "outputs": [
    {
     "data": {
      "text/plain": [
       "0.6211374811222274"
      ]
     },
     "execution_count": 51,
     "metadata": {},
     "output_type": "execute_result"
    }
   ],
   "source": [
    "score_train=alg1.score(x_train,y_train)\n",
    "score_train"
   ]
  },
  {
   "cell_type": "code",
   "execution_count": null,
   "metadata": {},
   "outputs": [],
   "source": []
  }
 ],
 "metadata": {
  "kernelspec": {
   "display_name": "Python 3",
   "language": "python",
   "name": "python3"
  },
  "language_info": {
   "codemirror_mode": {
    "name": "ipython",
    "version": 3
   },
   "file_extension": ".py",
   "mimetype": "text/x-python",
   "name": "python",
   "nbconvert_exporter": "python",
   "pygments_lexer": "ipython3",
   "version": "3.8.3"
  }
 },
 "nbformat": 4,
 "nbformat_minor": 4
}
